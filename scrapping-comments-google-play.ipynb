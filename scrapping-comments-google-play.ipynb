{
 "cells": [
  {
   "cell_type": "code",
   "execution_count": 1,
   "metadata": {},
   "outputs": [
    {
     "name": "stdout",
     "output_type": "stream",
     "text": [
      "Defaulting to user installation because normal site-packages is not writeable\n",
      "Collecting google-play-scraper\n",
      "  Downloading google_play_scraper-1.2.3-py3-none-any.whl (28 kB)\n",
      "Installing collected packages: google-play-scraper\n",
      "Successfully installed google-play-scraper-1.2.3\n",
      "Note: you may need to restart the kernel to use updated packages.\n"
     ]
    }
   ],
   "source": [
    "# pip install google-play-scraper\n"
   ]
  },
  {
   "cell_type": "code",
   "execution_count": 2,
   "metadata": {},
   "outputs": [],
   "source": [
    "from google_play_scraper import search, Sort, reviews"
   ]
  },
  {
   "cell_type": "code",
   "execution_count": 33,
   "metadata": {},
   "outputs": [
    {
     "name": "stdout",
     "output_type": "stream",
     "text": [
      "com.quierolibros https://play-lh.googleusercontent.com/EmUtZu7m6eV460duZaO91vYbqySyrGP4L6uHOi3OngyIMNSokhzxkMgFNmSQl143YA\n"
     ]
    }
   ],
   "source": [
    "searched_app = search(\n",
    "    \"QuieroLibros: Libros Usados\",\n",
    "    lang=\"es\",  # defaults to 'en'\n",
    "    country=\"mx\",  # defaults to 'us'\n",
    "    n_hits=3  # defaults to 30 (= Google's maximum)\n",
    ")\n",
    "\n",
    "app_Id = searched_app[0]['appId']\n",
    "\n",
    "app_icon = searched_app[0]['icon']\n",
    "\n",
    "print(app_Id, app_icon)\n"
   ]
  },
  {
   "cell_type": "code",
   "execution_count": 34,
   "metadata": {},
   "outputs": [],
   "source": [
    "# app_Id='com.wallapop'"
   ]
  },
  {
   "cell_type": "code",
   "execution_count": 35,
   "metadata": {},
   "outputs": [
    {
     "name": "stdout",
     "output_type": "stream",
     "text": [
      "Malísima, poca variedad , pone gastos de envío 2,90 y cuando metes el peso y las medidas del paquete los gastos se disparan, yo llegan las notificaciones y para el colmo ahora al entrar dice error de concesión y no te deja ni de borrar el perfil, una estrella por qué no se puede poner -10\n",
      "Horroso la cantidad de anuncio que uno se tiene que comer, aparte los anunciantes no responde, no querrán vender, en fin mal app, y no me venga que hay una versión Premium, que una cosa es tragarse unos anuncios y otra es que salten cada 5 segundos.\n",
      "No me ha gustado nada, mucha publicidad portodas partes en la propia página y tambien te saltan anuncios de forma excesiva. Al final me he cansado porque apenas podía subir un libro y la he eliminado.\n",
      "Sólo me ha dejado subir 3 libros...y tengo bastante,y cada vez que subo un libro se bloquea la app y me borra todo...no sé si seguir subiendo más fotos o desinstalar la aplicación directamente\n",
      "La verdad ya tiene bastante que subi varios títulos y la verdad nunca e vendido ni un libro, descargue la app confiando en la misma que lograría mi propósito y pues que pésimo servicio ya hasta la voy a eliminar\n",
      "No deja que me registre. Super mal\n",
      "Pésima para subir libros, se cuelga constantemente y la publicidad es muy molesta.\n",
      "Con el escaner, es muy fácil subir los libros, muchas visitas, pero nadie compra\n",
      "Un asco! Te pide que aceptes los terminos para registrarte, pero no te dicen cuales son ni te permiten verlos, tampoco carga y tarda un montón es permitirte registrarte\n",
      "La gente no interactua, no me ha escrito nadie para preguntar por ningun articulo que vendo, la app no me sirve, no cumple la función, no vendo nada.\n"
     ]
    }
   ],
   "source": [
    "app_one_star_comments, continuation_token = reviews(\n",
    "    app_Id,\n",
    "    lang='es', # defaults to 'en'\n",
    "    country='mx', # defaults to 'us'\n",
    "    sort=Sort.MOST_RELEVANT, # defaults to Sort.NEWEST\n",
    "    count=10, # defaults to 100\n",
    "    filter_score_with=1 # defaults to None(means all score)\n",
    ")\n",
    "\n",
    "for comment in app_one_star_comments:\n",
    "    print(comment['content'])\n"
   ]
  },
  {
   "cell_type": "code",
   "execution_count": null,
   "metadata": {},
   "outputs": [],
   "source": []
  },
  {
   "cell_type": "code",
   "execution_count": 36,
   "metadata": {},
   "outputs": [
    {
     "name": "stdout",
     "output_type": "stream",
     "text": [
      "Es una muy practica y innovadora aplicacion para vender nuestros libros usados , realmente estoy fascinado , la recomiendo totalmente es una gran experiencia y me permite vender y promover los libros de manera sencilla y divertida felicitaciones a los creadores de esta aplicacion\n",
      "En general, funciona muy bien esta app. Uno de los aspectos que más me gusta es la opción de subir libros escaneando el ISBN en el código de barras. Aun así, sugeriría algunas mejoras, relativas a la edición de un libro ya subido, como que permita cambiar el género al que pertenece, o que permita subir fotos de la galería en vez de tener que sacarlas en ese momento. Por lo menos,en mi móvil no me deja editar estos aspectos a posteriori. Por lo demás, estupenda app, enhorabuena y gracias!! :)\n",
      "Muy buena app para comprar y vender libros, tanto usados como nuevos. Intuitiva y facil de usar\n",
      "Esta muy bien. Porque puedes comprar libros a excelentes precios\n",
      "Muy buena app y está disponible para Venezuela\n",
      "Una App muy intuitiva y útil, tanto para comprar libros, como para venderlos y así entre todos damos una segunda oportunidad al conocimiento, generando a la vez una economía circular y comaborativa. 🤗.\n",
      "Me funcionó muy bien subiendo los.libros y textos escolares.. Vamos a ver cómo va con la venta, que depende de la promoción de la app creo yo.\n",
      "La idea es buena. Falta pulir ciertos detalles y que tengan la difusión que merecen. Es fantástico tener una app exclusivamente para la compraventa de libros.\n",
      "Todo muy bien con la aplicación, solo lo que me gustaría es que cuando vendes, exista la posibilidad de escoger todas las fotos que vas a publicar y no una por una... Por lo demás, todo excelente\n",
      "Muy buena app si lo que buscas es como autor o como editor publicar tus obras, y como Lector conseguir buenos libros, así como interaccionar con otros Lectores compartiéndolos con otros más.\n"
     ]
    }
   ],
   "source": [
    "app_five_stars_comments, continuation_token = reviews(\n",
    "    app_Id,\n",
    "    lang='es', # defaults to 'en'\n",
    "    country='mx', # defaults to 'us'\n",
    "    sort=Sort.MOST_RELEVANT, # defaults to Sort.NEWEST\n",
    "    count=10, # defaults to 100\n",
    "    filter_score_with=5 # defaults to None(means all score)\n",
    ")\n",
    "\n",
    "for comment in app_five_stars_comments:\n",
    "    print(comment['content'])\n"
   ]
  }
 ],
 "metadata": {
  "kernelspec": {
   "display_name": "Python 3",
   "language": "python",
   "name": "python3"
  },
  "language_info": {
   "codemirror_mode": {
    "name": "ipython",
    "version": 3
   },
   "file_extension": ".py",
   "mimetype": "text/x-python",
   "name": "python",
   "nbconvert_exporter": "python",
   "pygments_lexer": "ipython3",
   "version": "3.10.6"
  },
  "orig_nbformat": 4
 },
 "nbformat": 4,
 "nbformat_minor": 2
}
